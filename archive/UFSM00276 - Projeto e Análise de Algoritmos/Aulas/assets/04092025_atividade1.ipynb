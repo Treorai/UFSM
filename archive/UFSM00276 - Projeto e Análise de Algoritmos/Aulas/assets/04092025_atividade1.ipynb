{
  "nbformat": 4,
  "nbformat_minor": 0,
  "metadata": {
    "colab": {
      "provenance": []
    },
    "kernelspec": {
      "name": "python3",
      "display_name": "Python 3"
    },
    "language_info": {
      "name": "python"
    }
  },
  "cells": [
    {
      "cell_type": "code",
      "source": [
        "import time"
      ],
      "metadata": {
        "id": "FNgFB2uJBZmw"
      },
      "execution_count": 1,
      "outputs": []
    },
    {
      "cell_type": "code",
      "source": [
        "# Iterativo\n",
        "def encontrar_maior_elemento_iterativo(vetor):\n",
        "  maior_elemento = vetor[0]\n",
        "  for elemento in vetor:\n",
        "    if elemento > maior_elemento:\n",
        "      maior_elemento = elemento\n",
        "  return maior_elemento"
      ],
      "metadata": {
        "id": "4Zkz-wA--t5F"
      },
      "execution_count": 2,
      "outputs": []
    },
    {
      "cell_type": "code",
      "source": [
        "# Recursivo\n",
        "def encontrar_maior_elemento_recursivo(vetor, inicio, fim):\n",
        "  if inicio == fim:\n",
        "    return vetor[inicio]\n",
        "  else:\n",
        "    meio = (inicio + fim) // 2\n",
        "    max1 = encontrar_maior_elemento_recursivo(vetor, inicio, meio)\n",
        "    max2 = encontrar_maior_elemento_recursivo(vetor, meio + 1, fim)\n",
        "\n",
        "    if (max1 > max2):\n",
        "      return max1\n",
        "    else:\n",
        "      return max2"
      ],
      "metadata": {
        "id": "qfxg-s5S-4qt"
      },
      "execution_count": 3,
      "outputs": []
    },
    {
      "cell_type": "code",
      "source": [
        "# Cria um vetor de 1000 elementos aleatórios\n",
        "\n",
        "import random\n",
        "\n",
        "vetor = [random.randint(1, 1000) for _ in range(1000)]"
      ],
      "metadata": {
        "id": "dM-2J6UhBik3"
      },
      "execution_count": 4,
      "outputs": []
    },
    {
      "cell_type": "code",
      "source": [
        "# Roda Iterativo\n",
        "\n",
        "start_time_i = time.time()\n",
        "\n",
        "maior_elemento_iterativo = encontrar_maior_elemento_iterativo(vetor)\n",
        "print(\"Maior elemento encontrado (iterativo):\", maior_elemento_iterativo)\n",
        "\n",
        "end_time_i = time.time()\n",
        "execution_time_i = end_time_i - start_time_i\n",
        "\n",
        "print(f\"Tempo de execução: {execution_time_i} segundos\")"
      ],
      "metadata": {
        "colab": {
          "base_uri": "https://localhost:8080/"
        },
        "id": "ivtN4qhwAG6G",
        "outputId": "5e89fbc7-eed2-47c0-895f-1bfeb86b8f9c"
      },
      "execution_count": 5,
      "outputs": [
        {
          "output_type": "stream",
          "name": "stdout",
          "text": [
            "Maior elemento encontrado (iterativo): 998\n",
            "Tempo de execução: 0.0005776882171630859 segundos\n"
          ]
        }
      ]
    },
    {
      "cell_type": "code",
      "source": [
        "# Roda Recursivo\n",
        "\n",
        "start_time_r = time.time()\n",
        "\n",
        "maior_elemento_recursivo = encontrar_maior_elemento_recursivo(vetor, 0, len(vetor) - 1)\n",
        "print(\"Maior elemento encontrado (recursivo):\", maior_elemento_recursivo)\n",
        "\n",
        "end_time_r = time.time()\n",
        "execution_time_r = end_time_r - start_time_r\n",
        "\n",
        "print(f\"Tempo de execução: {execution_time_r} segundos\")"
      ],
      "metadata": {
        "colab": {
          "base_uri": "https://localhost:8080/"
        },
        "id": "CBoYDMGtAK5W",
        "outputId": "8efc7b6b-68cb-4874-a6fb-ebc2cf7a4dfb"
      },
      "execution_count": 6,
      "outputs": [
        {
          "output_type": "stream",
          "name": "stdout",
          "text": [
            "Maior elemento encontrado (recursivo): 998\n",
            "Tempo de execução: 0.003604888916015625 segundos\n"
          ]
        }
      ]
    }
  ]
}